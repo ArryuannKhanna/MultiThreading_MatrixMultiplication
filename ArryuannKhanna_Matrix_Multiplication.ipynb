{
 "cells": [
  {
   "cell_type": "code",
   "execution_count": 1,
   "metadata": {},
   "outputs": [
    {
     "name": "stdout",
     "output_type": "stream",
     "text": [
      "OS Type:  posix\n"
     ]
    }
   ],
   "source": [
    "import os\n",
    "print(\"OS Type: \",os.name)"
   ]
  },
  {
   "cell_type": "code",
   "execution_count": 2,
   "metadata": {},
   "outputs": [
    {
     "name": "stdout",
     "output_type": "stream",
     "text": [
      "OS Name:  darwin\n"
     ]
    }
   ],
   "source": [
    "import sys\n",
    "print(\"OS Name: \",sys.platform)"
   ]
  },
  {
   "cell_type": "code",
   "execution_count": 3,
   "metadata": {},
   "outputs": [
    {
     "name": "stdout",
     "output_type": "stream",
     "text": [
      "OS Platform:  macOS-14.1.1-x86_64-i386-64bit\n"
     ]
    }
   ],
   "source": [
    "import platform\n",
    "print(\"OS Platform: \",platform.platform())"
   ]
  },
  {
   "cell_type": "code",
   "execution_count": 4,
   "metadata": {},
   "outputs": [
    {
     "name": "stdout",
     "output_type": "stream",
     "text": [
      "Number of cores are :  8\n"
     ]
    }
   ],
   "source": [
    "import multiprocessing\n",
    "\n",
    "numberOfCores = multiprocessing.cpu_count()\n",
    "print(\"Number of cores are : \",numberOfCores)"
   ]
  },
  {
   "cell_type": "code",
   "execution_count": 5,
   "metadata": {},
   "outputs": [
    {
     "name": "stdout",
     "output_type": "stream",
     "text": [
      "Number of active threads are :  8\n"
     ]
    }
   ],
   "source": [
    "import threading\n",
    "activeThread = threading.active_count()\n",
    "print(\"Number of active threads are : \",activeThread)"
   ]
  },
  {
   "cell_type": "code",
   "execution_count": 6,
   "metadata": {},
   "outputs": [],
   "source": [
    "import numpy as np\n",
    "import threading\n",
    "import time"
   ]
  },
  {
   "cell_type": "code",
   "execution_count": 7,
   "metadata": {},
   "outputs": [],
   "source": [
    "def generate_matrices(num,size):\n",
    "    matrices =[]\n",
    "    for _ in range(num):\n",
    "        matrices.append(np.random.rand(size,size))\n",
    "    return matrices"
   ]
  },
  {
   "cell_type": "code",
   "execution_count": 8,
   "metadata": {},
   "outputs": [],
   "source": [
    "def multiply_matrices(constant_matrix, matrices, result, index):\n",
    "    result[index] = np.dot(constant_matrix, matrices[index])"
   ]
  },
  {
   "cell_type": "code",
   "execution_count": 9,
   "metadata": {},
   "outputs": [],
   "source": [
    "num_matrices = 100\n",
    "matrix_size = 1000\n",
    "constant_matrix = np.random.rand(matrix_size, matrix_size)"
   ]
  },
  {
   "cell_type": "code",
   "execution_count": 10,
   "metadata": {},
   "outputs": [
    {
     "data": {
      "text/plain": [
       "array([[0.95835858, 0.64397482, 0.89196625, ..., 0.49078847, 0.88199149,\n",
       "        0.30733368],\n",
       "       [0.75170103, 0.46192747, 0.94273778, ..., 0.16567389, 0.08930371,\n",
       "        0.75511634],\n",
       "       [0.24127264, 0.86343703, 0.51579781, ..., 0.17185842, 0.62702044,\n",
       "        0.12273084],\n",
       "       ...,\n",
       "       [0.31611726, 0.40647227, 0.9585991 , ..., 0.16220974, 0.09750937,\n",
       "        0.55320744],\n",
       "       [0.56660549, 0.54904395, 0.6800545 , ..., 0.7512686 , 0.04660374,\n",
       "        0.96124954],\n",
       "       [0.66414477, 0.70916596, 0.92434042, ..., 0.73184982, 0.50645721,\n",
       "        0.66289235]])"
      ]
     },
     "execution_count": 10,
     "metadata": {},
     "output_type": "execute_result"
    }
   ],
   "source": [
    "constant_matrix"
   ]
  },
  {
   "cell_type": "code",
   "execution_count": 11,
   "metadata": {},
   "outputs": [],
   "source": [
    "time_arr=[None]*15"
   ]
  },
  {
   "cell_type": "code",
   "execution_count": 12,
   "metadata": {},
   "outputs": [
    {
     "data": {
      "text/plain": [
       "[None,\n",
       " None,\n",
       " None,\n",
       " None,\n",
       " None,\n",
       " None,\n",
       " None,\n",
       " None,\n",
       " None,\n",
       " None,\n",
       " None,\n",
       " None,\n",
       " None,\n",
       " None,\n",
       " None]"
      ]
     },
     "execution_count": 12,
     "metadata": {},
     "output_type": "execute_result"
    }
   ],
   "source": [
    "time_arr"
   ]
  },
  {
   "cell_type": "code",
   "execution_count": 13,
   "metadata": {},
   "outputs": [
    {
     "name": "stdout",
     "output_type": "stream",
     "text": [
      "Multiplication with 1 threads:\n",
      " All Thread ends\n",
      "Program Finished\n",
      "Total Time 101.001200 sec\n",
      "Multiplication with 2 threads:\n",
      " All Thread ends\n",
      "Program Finished\n",
      "Total Time 51.511800 sec\n",
      "Multiplication with 3 threads:\n",
      "    Thread still running (left 1)...\n",
      " All Thread ends\n",
      "Program Finished\n",
      "Total Time 35.265500 sec\n",
      "Multiplication with 4 threads:\n",
      "    Thread still running (left 2)...\n",
      " All Thread ends\n",
      "Program Finished\n",
      "Total Time 26.230100 sec\n",
      "Multiplication with 5 threads:\n",
      "    Thread still running (left 3)...\n",
      " All Thread ends\n",
      "Program Finished\n",
      "Total Time 21.176200 sec\n",
      "Multiplication with 6 threads:\n",
      "    Thread still running (left 4)...\n",
      " All Thread ends\n",
      "Program Finished\n",
      "Total Time 18.129200 sec\n",
      "Multiplication with 7 threads:\n",
      "    Thread still running (left 2)...\n",
      " All Thread ends\n",
      "Program Finished\n",
      "Total Time 15.940900 sec\n",
      "Multiplication with 8 threads:\n",
      "    Thread still running (left 4)...\n",
      " All Thread ends\n",
      "Program Finished\n",
      "Total Time 13.933400 sec\n",
      "Multiplication with 9 threads:\n",
      "    Thread still running (left 1)...\n",
      " All Thread ends\n",
      "Program Finished\n",
      "Total Time 12.901100 sec\n",
      "Multiplication with 10 threads:\n",
      " All Thread ends\n",
      "Program Finished\n",
      "Total Time 10.941200 sec\n",
      "Multiplication with 11 threads:\n",
      "    Thread still running (left 1)...\n",
      " All Thread ends\n",
      "Program Finished\n",
      "Total Time 10.668200 sec\n",
      "Multiplication with 12 threads:\n",
      "    Thread still running (left 9)...\n",
      " All Thread ends\n",
      "Program Finished\n",
      "Total Time 9.702600 sec\n",
      "Multiplication with 13 threads:\n",
      "    Thread still running (left 7)...\n",
      " All Thread ends\n",
      "Program Finished\n",
      "Total Time 9.823100 sec\n",
      "Multiplication with 14 threads:\n",
      "    Thread still running (left 13)...\n",
      "    Thread still running (left 4)...\n",
      " All Thread ends\n",
      "Program Finished\n",
      "Total Time 11.933900 sec\n",
      "Multiplication with 15 threads:\n",
      "    Thread still running (left 13)...\n",
      " All Thread ends\n",
      "Program Finished\n",
      "Total Time 10.954200 sec\n"
     ]
    }
   ],
   "source": [
    "matrices = generate_matrices(num_matrices, matrix_size)\n",
    "result = [None] * num_matrices\n",
    "activeThreads=0\n",
    "for num_threads in range(1, 16):\n",
    "    start_time = time.time()\n",
    "    threads = []\n",
    "    activeThreads = threading.active_count()\n",
    "    print(f\"Multiplication with {num_threads} threads:\")\n",
    "    for i in range(num_matrices):\n",
    "        thread = threading.Thread(target=multiply_matrices, args=(constant_matrix, matrices, result, i))\n",
    "        threads.append(thread)\n",
    "        thread.start()\n",
    "        while True:\n",
    "            if threading.active_count() - activeThreads + 1 <= num_threads:\n",
    "                break\n",
    "            time.sleep(1)\n",
    "    while True:\n",
    "        if threading.active_count() == activeThreads:\n",
    "            break\n",
    "        else:\n",
    "            print (\"    Thread still running (left %d)...\"%(threading.active_count() - activeThreads))\n",
    "            time.sleep(1)\n",
    "\n",
    "    print(\" All Thread ends\")\n",
    "\n",
    "    print(\"Program Finished\")\n",
    "    print(\"Total Time %f sec\" % (round( time.time() - start_time,4)))\n",
    "    time_arr[num_threads-1]=(round( time.time() - start_time,4))"
   ]
  },
  {
   "cell_type": "code",
   "execution_count": 14,
   "metadata": {},
   "outputs": [
    {
     "data": {
      "text/plain": [
       "[101.0022,\n",
       " 51.512,\n",
       " 35.2656,\n",
       " 26.2305,\n",
       " 21.1764,\n",
       " 18.1294,\n",
       " 15.9409,\n",
       " 13.9336,\n",
       " 12.9013,\n",
       " 10.9412,\n",
       " 10.6683,\n",
       " 9.7027,\n",
       " 9.8232,\n",
       " 11.934,\n",
       " 10.9542]"
      ]
     },
     "execution_count": 14,
     "metadata": {},
     "output_type": "execute_result"
    }
   ],
   "source": [
    "time_arr"
   ]
  },
  {
   "cell_type": "code",
   "execution_count": 15,
   "metadata": {},
   "outputs": [],
   "source": [
    "import matplotlib.pyplot as plt"
   ]
  },
  {
   "cell_type": "code",
   "execution_count": 16,
   "metadata": {},
   "outputs": [],
   "source": [
    "num_threads = [1, 2, 3, 4, 5, 6, 7, 8,9,10,11,12,13,14,15]"
   ]
  },
  {
   "cell_type": "code",
   "execution_count": 17,
   "metadata": {},
   "outputs": [
    {
     "data": {
      "image/png": "[encoded data removed]",
      "text/plain": [
       "<Figure size 640x480 with 1 Axes>"
      ]
     },
     "metadata": {},
     "output_type": "display_data"
    }
   ],
   "source": [
    "plt.plot(num_threads, time_arr,marker='o')\n",
    "plt.xlabel('Number of Threads')\n",
    "plt.ylabel('Execution Time (seconds)')\n",
    "plt.title('Execution Time vs Number of Threads')\n",
    "\n",
    "plt.show()"
   ]
  }
 ],
 "metadata": {
  "kernelspec": {
   "display_name": "Python 3 (ipykernel)",
   "language": "python",
   "name": "python3"
  },
  "language_info": {
   "codemirror_mode": {
    "name": "ipython",
    "version": 3
   },
   "file_extension": ".py",
   "mimetype": "text/x-python",
   "name": "python",
   "nbconvert_exporter": "python",
   "pygments_lexer": "ipython3",
   "version": "3.10.6"
  }
 },
 "nbformat": 4,
 "nbformat_minor": 4
}
